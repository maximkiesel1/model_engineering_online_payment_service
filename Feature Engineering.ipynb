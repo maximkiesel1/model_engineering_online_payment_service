{
 "cells": [
  {
   "cell_type": "markdown",
   "id": "5a0e7b95",
   "metadata": {},
   "source": [
    "# Feature Engineering"
   ]
  },
  {
   "cell_type": "code",
   "execution_count": 225,
   "id": "58765436",
   "metadata": {},
   "outputs": [],
   "source": [
    "# import the libraries\n",
    "import pandas as pd\n",
    "from sklearn.preprocessing import LabelEncoder\n",
    "from sklearn.ensemble import RandomForestRegressor\n",
    "from sklearn.model_selection import train_test_split\n",
    "import numpy as np\n",
    "from statsmodels.stats.multitest import multipletests"
   ]
  },
  {
   "cell_type": "code",
   "execution_count": 226,
   "id": "91f2c4d6",
   "metadata": {},
   "outputs": [],
   "source": [
    "# path to the data on the local machine\n",
    "path = \"/Users/maximkiesel/Desktop/Master/Model Engineering/use_case_1/PSP_Jan_Feb_2019.xlsx\""
   ]
  },
  {
   "cell_type": "code",
   "execution_count": 227,
   "id": "2f3c6826",
   "metadata": {},
   "outputs": [],
   "source": [
    "# load the data\n",
    "df = pd.read_excel(path)"
   ]
  },
  {
   "cell_type": "code",
   "execution_count": 228,
   "id": "50494a33",
   "metadata": {},
   "outputs": [],
   "source": [
    "# split the timestamp\n",
    "df['year'] = df['tmsp'].dt.year\n",
    "df['month'] = df['tmsp'].dt.month\n",
    "df['day'] = df['tmsp'].dt.day\n",
    "df['day_of_week'] = df['tmsp'].dt.dayofweek  # Montag=0, Sonntag=6\n",
    "df['quarter'] = df['tmsp'].dt.quarter\n",
    "df['is_weekend'] = (df['tmsp'].dt.weekday >= 5).astype(int)\n",
    "df['hour'] = df['tmsp'].dt.hour"
   ]
  },
  {
   "cell_type": "code",
   "execution_count": 229,
   "id": "6eac1e89",
   "metadata": {},
   "outputs": [],
   "source": [
    "list_tmsp = [\"year\", \"month\", \"day\", \"day_of_week\", \"quarter\", \"is_weekend\", \"hour\"]"
   ]
  },
  {
   "cell_type": "code",
   "execution_count": 230,
   "id": "abfab49a",
   "metadata": {},
   "outputs": [
    {
     "name": "stdout",
     "output_type": "stream",
     "text": [
      "\n",
      "year\n",
      "[2019]\n",
      "-------------\n",
      "\n",
      "month\n",
      "[1 2]\n",
      "-------------\n",
      "\n",
      "day\n",
      "[ 1  2  3  4  5  6  7  8  9 10 11 12 13 14 15 16 17 18 19 20 21 22 23 24\n",
      " 25 26 27 28 29 30 31]\n",
      "-------------\n",
      "\n",
      "day_of_week\n",
      "[1 2 3 4 5 6 0]\n",
      "-------------\n",
      "\n",
      "quarter\n",
      "[1]\n",
      "-------------\n",
      "\n",
      "is_weekend\n",
      "[0 1]\n",
      "-------------\n",
      "\n",
      "hour\n",
      "[ 0  1  2  3  4  5  6  7  8  9 10 11 12 13 14 15 16 17 18 19 20 21 22 23]\n",
      "-------------\n"
     ]
    }
   ],
   "source": [
    "# check unique values of the splitted timestamps\n",
    "list_column = [\"year\", \"month\", \"day\", \"day_of_week\", \"quarter\", \"is_weekend\", \"hour\"]\n",
    "\n",
    "for column in list_column:\n",
    "    print(\"\")\n",
    "    print(column)\n",
    "    print(df[column].unique())\n",
    "    print(\"-------------\") "
   ]
  },
  {
   "cell_type": "code",
   "execution_count": 231,
   "id": "9222ff20",
   "metadata": {},
   "outputs": [],
   "source": [
    "df = df.drop([\"year\", \"quarter\", \"Unnamed: 0\", \"tmsp\", \"country\"], axis=1)"
   ]
  },
  {
   "cell_type": "code",
   "execution_count": 232,
   "id": "219f2846",
   "metadata": {},
   "outputs": [],
   "source": [
    "# convert continuous numerical to ordinal numeric data\n",
    "df['amount_bin'] = pd.qcut(df['amount'], q=4)\n",
    "\n",
    "le = LabelEncoder()\n",
    "df['amount_bin_encoded'] = le.fit_transform(df['amount_bin'])\n",
    "df = df.drop(\"amount_bin\", axis=1)"
   ]
  },
  {
   "cell_type": "code",
   "execution_count": 233,
   "id": "c7bc6470",
   "metadata": {},
   "outputs": [],
   "source": [
    "# create one-hot encoding for 2 features\n",
    "df= pd.get_dummies(df, columns=['card', 'PSP'])"
   ]
  },
  {
   "cell_type": "code",
   "execution_count": 234,
   "id": "d7744638",
   "metadata": {},
   "outputs": [
    {
     "name": "stdout",
     "output_type": "stream",
     "text": [
      "Original p-Werte: [3.63499579e-02 5.68303775e-01 1.14466978e-09 2.39224117e-40]\n",
      "After FDR p-Werte: [4.84666105e-02 5.68303775e-01 2.28933956e-09 9.56896467e-40]\n",
      "Rejected H0: [ True False  True  True]\n"
     ]
    }
   ],
   "source": [
    "# using Benjamini-Hochberg-method for FDR to see if features can be cutted\n",
    "p_values = np.array([0.03634995786578327, 0.5683037749425706, 1.144669780335135e-09, 2.392241166548454e-40])\n",
    "\n",
    "reject, pvals_corrected, _, _ = multipletests(p_values, method='fdr_bh')\n",
    "\n",
    "print('Original p-Werte:', p_values)\n",
    "print('After FDR p-Werte:', pvals_corrected)\n",
    "print('Rejected H0:', reject)"
   ]
  },
  {
   "cell_type": "code",
   "execution_count": 235,
   "id": "448434b2",
   "metadata": {},
   "outputs": [],
   "source": [
    "# saving the df as .xlsx after feature engineering\n",
    "df.to_excel('feature_engineering.xlsx', index=False)"
   ]
  }
 ],
 "metadata": {
  "kernelspec": {
   "display_name": "Python 3 (ipykernel)",
   "language": "python",
   "name": "python3"
  },
  "language_info": {
   "codemirror_mode": {
    "name": "ipython",
    "version": 3
   },
   "file_extension": ".py",
   "mimetype": "text/x-python",
   "name": "python",
   "nbconvert_exporter": "python",
   "pygments_lexer": "ipython3",
   "version": "3.10.9"
  }
 },
 "nbformat": 4,
 "nbformat_minor": 5
}
